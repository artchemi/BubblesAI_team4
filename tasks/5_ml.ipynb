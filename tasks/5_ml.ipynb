{
  "cells": [
    {
      "cell_type": "markdown",
      "metadata": {
        "id": "5lSVngw8AONh"
      },
      "source": [
        "# Task 5"
      ]
    },
    {
      "cell_type": "code",
      "execution_count": 43,
      "metadata": {},
      "outputs": [],
      "source": [
        "import pandas as pd\n",
        "from sklearn.ensemble import RandomForestClassifier\n",
        "from sklearn.svm import SVC\n",
        "from sklearn.model_selection import train_test_split\n",
        "from sklearn.metrics import classification_report\n",
        "from sklearn.preprocessing import LabelEncoder\n",
        "import csv"
      ]
    },
    {
      "cell_type": "code",
      "execution_count": 44,
      "metadata": {},
      "outputs": [],
      "source": [
        "TARGET_NAMES = [\"0%\", \"5%\", \"12.5%\", \"25%\", \"50%\", \"75%\", \"100%\"]"
      ]
    },
    {
      "cell_type": "code",
      "execution_count": 45,
      "metadata": {},
      "outputs": [
        {
          "name": "stdout",
          "output_type": "stream",
          "text": [
            "<class 'pandas.core.frame.DataFrame'>\n",
            "RangeIndex: 29482 entries, 0 to 29481\n",
            "Data columns (total 5 columns):\n",
            " #   Column                 Non-Null Count  Dtype  \n",
            "---  ------                 --------------  -----  \n",
            " 0   Image number           29482 non-null  int64  \n",
            " 1   Square                 29482 non-null  float64\n",
            " 2   Radius                 29482 non-null  float64\n",
            " 3   Circumference          29482 non-null  float64\n",
            " 4   Alcohol concentration  29482 non-null  float64\n",
            "dtypes: float64(4), int64(1)\n",
            "memory usage: 1.1 MB\n"
          ]
        }
      ],
      "source": [
        "data = pd.read_csv('../data/bubble_analysis_um.csv')\n",
        "data.info()"
      ]
    },
    {
      "cell_type": "code",
      "execution_count": 46,
      "metadata": {},
      "outputs": [],
      "source": [
        "x = data[['Square', 'Radius', 'Circumference']]\n",
        "\n",
        "le = LabelEncoder()\n",
        "y = le.fit_transform(data['Alcohol concentration'])"
      ]
    },
    {
      "cell_type": "code",
      "execution_count": 47,
      "metadata": {
        "id": "S8itcDfQiIvQ"
      },
      "outputs": [],
      "source": [
        "x_train, x_test, y_train, y_test = train_test_split(x, y, random_state=42)\n",
        "\n",
        "# Random Forest\n",
        "rf_model = RandomForestClassifier(random_state=42)\n",
        "rf_model.fit(x_train, y_train)\n",
        "rf_pred = rf_model.predict(x_test)\n",
        "rf_report = classification_report(y_test, rf_pred, target_names=TARGET_NAMES, zero_division=0)\n",
        "\n",
        "# SVM\n",
        "svm_model = SVC(random_state=42)\n",
        "svm_model.fit(x_train, y_train)\n",
        "svm_pred = svm_model.predict(x_test)\n",
        "svm_report = classification_report(y_test, svm_pred, target_names=TARGET_NAMES, zero_division=0)\n",
        "\n",
        "with open(\"../results/rf_classification_report.txt\", \"w\") as f:\n",
        "    f.write(rf_report)\n",
        "\n",
        "with open(\"../results/svm_classification_report.txt\", \"w\") as f:\n",
        "    f.write(svm_report)"
      ]
    },
    {
      "cell_type": "code",
      "execution_count": 48,
      "metadata": {},
      "outputs": [
        {
          "name": "stdout",
          "output_type": "stream",
          "text": [
            "              precision    recall  f1-score   support\n",
            "\n",
            "          0%       0.97      0.88      0.92       139\n",
            "          5%       0.94      0.97      0.96      1374\n",
            "       12.5%       0.98      1.00      0.99      2756\n",
            "         25%       0.96      0.91      0.93       914\n",
            "         50%       0.87      0.79      0.83       356\n",
            "         75%       0.83      0.75      0.79       535\n",
            "        100%       0.86      0.89      0.88      1297\n",
            "\n",
            "    accuracy                           0.93      7371\n",
            "   macro avg       0.92      0.89      0.90      7371\n",
            "weighted avg       0.93      0.93      0.93      7371\n",
            "\n"
          ]
        }
      ],
      "source": [
        "print(rf_report)"
      ]
    },
    {
      "cell_type": "code",
      "execution_count": 49,
      "metadata": {},
      "outputs": [
        {
          "name": "stdout",
          "output_type": "stream",
          "text": [
            "              precision    recall  f1-score   support\n",
            "\n",
            "          0%       0.74      0.47      0.58       139\n",
            "          5%       0.61      0.98      0.75      1374\n",
            "       12.5%       0.86      0.96      0.91      2756\n",
            "         25%       0.58      0.21      0.30       914\n",
            "         50%       0.50      0.32      0.39       356\n",
            "         75%       0.39      0.07      0.11       535\n",
            "        100%       0.61      0.63      0.62      1297\n",
            "\n",
            "    accuracy                           0.71      7371\n",
            "   macro avg       0.61      0.52      0.52      7371\n",
            "weighted avg       0.68      0.71      0.67      7371\n",
            "\n"
          ]
        }
      ],
      "source": [
        "print(svm_report)"
      ]
    }
  ],
  "metadata": {
    "colab": {
      "provenance": []
    },
    "kernelspec": {
      "display_name": ".venv",
      "language": "python",
      "name": "python3"
    },
    "language_info": {
      "codemirror_mode": {
        "name": "ipython",
        "version": 3
      },
      "file_extension": ".py",
      "mimetype": "text/x-python",
      "name": "python",
      "nbconvert_exporter": "python",
      "pygments_lexer": "ipython3",
      "version": "3.13.7"
    }
  },
  "nbformat": 4,
  "nbformat_minor": 0
}
